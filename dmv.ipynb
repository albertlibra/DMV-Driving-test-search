{
 "cells": [
  {
   "cell_type": "code",
   "execution_count": 1,
   "metadata": {
    "collapsed": true
   },
   "outputs": [],
   "source": [
    "from selenium import webdriver\n",
    "from selenium.webdriver.common.keys import Keys\n",
    "from selenium.webdriver.support import expected_conditions as EC\n",
    "from selenium.webdriver.common.by import By\n",
    "from selenium.webdriver.support.ui import WebDriverWait"
   ]
  },
  {
   "cell_type": "code",
   "execution_count": 2,
   "metadata": {
    "collapsed": false
   },
   "outputs": [],
   "source": [
    "###URLs\n",
    "Url={\n",
    "'North':'https://kiosk.us3.qless.com/kiosk/app/home/16666?&queues=55326',\n",
    "'Gessner':'https://kiosk.us3.qless.com/kiosk/app/home/3562?&queues=19387',\n",
    "'Spring':'https://kiosk.us3.qless.com/kiosk/app/home/3532?&queues=17937',\n",
    "'Rosenberg':'https://kiosk.us3.qless.com/kiosk/app/home/3522?&queues=17711'\n",
    "}"
   ]
  },
  {
   "cell_type": "code",
   "execution_count": 3,
   "metadata": {
    "collapsed": true
   },
   "outputs": [],
   "source": [
    "driver= webdriver.Firefox()"
   ]
  },
  {
   "cell_type": "code",
   "execution_count": 6,
   "metadata": {
    "collapsed": false
   },
   "outputs": [],
   "source": [
    "def FindLatestDate(url):\n",
    "    wait = WebDriverWait(driver, 10)\n",
    "    driver.get(url)\n",
    "    elem = driver.find_element_by_name(\"consumerfield_phone\")\n",
    "    wait.until(EC.visibility_of(elem))\n",
    "    elem.send_keys(\"2222222222\")\n",
    "    elem.send_keys(Keys.RETURN)\n",
    "#     wait.until(EC.element_to_be_clickable((By.ID,'apptTimeNextDate')))\n",
    "    elem2 =driver.find_element_by_id('apptDateSelect')\n",
    "    elem3 =driver.find_element_by_id('appointmentTimeBlocks')\n",
    "    wait.until(EC.element_to_be_clickable((By.ID,'appointmentTimeBlocks')))\n",
    "    return print(elem2.text,'\\n',elem3.text)"
   ]
  },
  {
   "cell_type": "code",
   "execution_count": 9,
   "metadata": {
    "collapsed": false
   },
   "outputs": [
    {
     "name": "stdout",
     "output_type": "stream",
     "text": [
      "North\n",
      "Thu, January 26, 2017 \n",
      " 8:20 AM 8:40 AM 9:00 AM 9:20 AM 9:40 AM 10:00 AM 10:20 AM 10:40 AM 2:00 PM 2:20 PM 2:40 PM\n",
      "\n",
      "\n",
      "Spring\n",
      "Thu, January 19, 2017 \n",
      " 8:20 AM 8:40 AM 9:00 AM 9:20 AM 9:40 AM 10:20 AM 10:40 AM 11:00 AM 11:20 AM 11:40 AM 2:00 PM 2:20 PM 2:40 PM 3:00 PM 3:20 PM\n",
      "\n",
      "\n",
      "Gessner\n",
      "Thu, February 9, 2017 \n",
      " 10:20 AM 10:40 AM 11:00 AM 11:20 AM 12:40 PM 2:00 PM 2:20 PM 2:40 PM\n",
      "\n",
      "\n",
      "Rosenberg\n",
      "Tue, January 24, 2017 \n",
      " 10:00 AM 11:20 AM 11:40 AM 1:20 PM 1:40 PM 2:40 PM\n",
      "\n",
      "\n"
     ]
    }
   ],
   "source": [
    "\n",
    "for mega,url in Url.items():\n",
    "    print(mega)\n",
    "    FindLatestDate(url)\n",
    "    print('\\n')"
   ]
  },
  {
   "cell_type": "code",
   "execution_count": null,
   "metadata": {
    "collapsed": true
   },
   "outputs": [],
   "source": []
  }
 ],
 "metadata": {
  "kernelspec": {
   "display_name": "Python 3",
   "language": "python",
   "name": "python3"
  },
  "language_info": {
   "codemirror_mode": {
    "name": "ipython",
    "version": 3
   },
   "file_extension": ".py",
   "mimetype": "text/x-python",
   "name": "python",
   "nbconvert_exporter": "python",
   "pygments_lexer": "ipython3",
   "version": "3.5.2+"
  }
 },
 "nbformat": 4,
 "nbformat_minor": 1
}
